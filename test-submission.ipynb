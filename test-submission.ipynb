{
 "cells": [
  {
   "cell_type": "code",
   "execution_count": 1,
   "id": "57602b3e",
   "metadata": {
    "_cell_guid": "b1076dfc-b9ad-4769-8c92-a6c4dae69d19",
    "_uuid": "8f2839f25d086af736a60e9eeb907d3b93b6e0e5",
    "execution": {
     "iopub.execute_input": "2024-07-04T19:04:59.135528Z",
     "iopub.status.busy": "2024-07-04T19:04:59.135169Z",
     "iopub.status.idle": "2024-07-04T19:05:12.472875Z",
     "shell.execute_reply": "2024-07-04T19:05:12.471891Z"
    },
    "papermill": {
     "duration": 13.344592,
     "end_time": "2024-07-04T19:05:12.475133",
     "exception": false,
     "start_time": "2024-07-04T19:04:59.130541",
     "status": "completed"
    },
    "tags": []
   },
   "outputs": [
    {
     "name": "stderr",
     "output_type": "stream",
     "text": [
      "2024-07-04 19:05:00.956786: E external/local_xla/xla/stream_executor/cuda/cuda_dnn.cc:9261] Unable to register cuDNN factory: Attempting to register factory for plugin cuDNN when one has already been registered\n",
      "2024-07-04 19:05:00.956886: E external/local_xla/xla/stream_executor/cuda/cuda_fft.cc:607] Unable to register cuFFT factory: Attempting to register factory for plugin cuFFT when one has already been registered\n",
      "2024-07-04 19:05:01.095545: E external/local_xla/xla/stream_executor/cuda/cuda_blas.cc:1515] Unable to register cuBLAS factory: Attempting to register factory for plugin cuBLAS when one has already been registered\n"
     ]
    }
   ],
   "source": [
    "import tensorflow as tf\n",
    "import pandas as pd\n",
    "import numpy as np\n",
    "from concurrent.futures import ProcessPoolExecutor, as_completed\n",
    "from tqdm import tqdm\n",
    "import logging\n",
    "import sklearn.metrics\n",
    "import json"
   ]
  },
  {
   "cell_type": "code",
   "execution_count": 2,
   "id": "d44f7fcb",
   "metadata": {
    "execution": {
     "iopub.execute_input": "2024-07-04T19:05:12.483377Z",
     "iopub.status.busy": "2024-07-04T19:05:12.482850Z",
     "iopub.status.idle": "2024-07-04T19:05:51.261747Z",
     "shell.execute_reply": "2024-07-04T19:05:51.260886Z"
    },
    "papermill": {
     "duration": 38.785413,
     "end_time": "2024-07-04T19:05:51.264161",
     "exception": false,
     "start_time": "2024-07-04T19:05:12.478748",
     "status": "completed"
    },
    "tags": []
   },
   "outputs": [],
   "source": [
    "ds = pd.read_csv('/kaggle/input/leash-bio-belka-chunk/test_normalized/test_normalized.csv')"
   ]
  },
  {
   "cell_type": "code",
   "execution_count": 3,
   "id": "40ca7fe5",
   "metadata": {
    "execution": {
     "iopub.execute_input": "2024-07-04T19:05:51.272146Z",
     "iopub.status.busy": "2024-07-04T19:05:51.271846Z",
     "iopub.status.idle": "2024-07-04T19:05:51.277290Z",
     "shell.execute_reply": "2024-07-04T19:05:51.276456Z"
    },
    "papermill": {
     "duration": 0.011498,
     "end_time": "2024-07-04T19:05:51.279184",
     "exception": false,
     "start_time": "2024-07-04T19:05:51.267686",
     "status": "completed"
    },
    "tags": []
   },
   "outputs": [],
   "source": [
    "data_cols = [\n",
    " 'b1LogP',\n",
    " 'b1MolMR',\n",
    " 'b1TPSA',\n",
    " 'b1FractionCSP3',\n",
    " 'b1NumHeteroatoms',\n",
    " 'b1MolecularWeight',\n",
    " 'b1ExactMass',\n",
    " 'b1NumRotatableBonds',\n",
    " 'b1NumValenceElectrons',\n",
    " 'b1BondCount',\n",
    " 'b1NumHAcceptors',\n",
    "\n",
    " 'b2LogP',\n",
    " 'b2MolMR',\n",
    " 'b2TPSA',\n",
    " 'b2FractionCSP3',\n",
    " 'b2NumValenceElectrons',\n",
    " 'b2MolecularWeight',\n",
    " 'b2ExactMass',\n",
    " 'b2NumRotatableBonds',\n",
    " 'b2BondCount',\n",
    " 'b2NumHeteroatoms',\n",
    " 'b2NumHAcceptors',\n",
    " \n",
    " 'b3LogP',\n",
    " 'b3MolMR',\n",
    " 'b3TPSA',\n",
    " 'b3FractionCSP3',\n",
    " 'b3NumHAcceptors',\n",
    " 'b3MolecularWeight',\n",
    " 'b3ExactMass',\n",
    " 'b3BondCount',\n",
    " 'b3NumValenceElectrons',\n",
    " 'b3NumRotatableBonds',\n",
    " 'b3NumHeteroatoms',\n",
    " 'b3NumAromaticBonds',\n",
    "]"
   ]
  },
  {
   "cell_type": "code",
   "execution_count": 4,
   "id": "8e1bc9c0",
   "metadata": {
    "execution": {
     "iopub.execute_input": "2024-07-04T19:05:51.286592Z",
     "iopub.status.busy": "2024-07-04T19:05:51.286289Z",
     "iopub.status.idle": "2024-07-04T19:05:52.092533Z",
     "shell.execute_reply": "2024-07-04T19:05:52.091513Z"
    },
    "papermill": {
     "duration": 0.812507,
     "end_time": "2024-07-04T19:05:52.094965",
     "exception": false,
     "start_time": "2024-07-04T19:05:51.282458",
     "status": "completed"
    },
    "tags": []
   },
   "outputs": [],
   "source": [
    "smile_vector = tf.keras.layers.TextVectorization(max_tokens=None, split='character', standardize=None, output_sequence_length=70)\n",
    "smile_vector.set_vocabulary([\"\", \"[UNK]\", \"c\", \"C\", \"1\", \")\", \"(\", \"O\", \"2\", \"N\", \"=\", \"n\", \"-\", \"l\", \"]\", \"[\", \"@\", \"H\", \"F\", \".\", \"3\", \"s\", \"B\", \"r\", \"S\", \"#\", \"+\", \"o\", \"I\", \"4\", \"/\", \"5\", \"i\"])"
   ]
  },
  {
   "cell_type": "code",
   "execution_count": 5,
   "id": "6471d24f",
   "metadata": {
    "execution": {
     "iopub.execute_input": "2024-07-04T19:05:52.102936Z",
     "iopub.status.busy": "2024-07-04T19:05:52.102623Z",
     "iopub.status.idle": "2024-07-04T19:07:08.930776Z",
     "shell.execute_reply": "2024-07-04T19:07:08.929750Z"
    },
    "papermill": {
     "duration": 76.83459,
     "end_time": "2024-07-04T19:07:08.933021",
     "exception": false,
     "start_time": "2024-07-04T19:05:52.098431",
     "status": "completed"
    },
    "tags": []
   },
   "outputs": [
    {
     "name": "stdout",
     "output_type": "stream",
     "text": [
      "\u001b[1m   78/17442\u001b[0m \u001b[37m━━━━━━━━━━━━━━━━━━━━\u001b[0m \u001b[1m34s\u001b[0m 2ms/step"
     ]
    },
    {
     "name": "stderr",
     "output_type": "stream",
     "text": [
      "WARNING: All log messages before absl::InitializeLog() is called are written to STDERR\n",
      "I0000 00:00:1720119983.424818      72 device_compiler.h:186] Compiled cluster using XLA!  This line is logged at most once for the lifetime of the process.\n"
     ]
    },
    {
     "name": "stdout",
     "output_type": "stream",
     "text": [
      "\u001b[1m17442/17442\u001b[0m \u001b[32m━━━━━━━━━━━━━━━━━━━━\u001b[0m\u001b[37m\u001b[0m \u001b[1m38s\u001b[0m 2ms/step\n"
     ]
    },
    {
     "name": "stderr",
     "output_type": "stream",
     "text": [
      "/tmp/ipykernel_24/2721665985.py:7: SettingWithCopyWarning: \n",
      "A value is trying to be set on a copy of a slice from a DataFrame.\n",
      "Try using .loc[row_indexer,col_indexer] = value instead\n",
      "\n",
      "See the caveats in the documentation: https://pandas.pydata.org/pandas-docs/stable/user_guide/indexing.html#returning-a-view-versus-a-copy\n",
      "  sEHs['binds'] = sEHpredictions.flatten()\n"
     ]
    }
   ],
   "source": [
    "sEHModel = tf.keras.models.load_model('/kaggle/input/leash_bio_seh/tensorflow2/train-w-smile-vectors/1/sEH.keras')\n",
    "sEHs = ds[ds['protein_name'] == 'sEH']\n",
    "buildingblock1_smiles_vec = smile_vector(sEHs['buildingblock1_smiles'].values)\n",
    "buildingblock2_smiles_vec = smile_vector(sEHs['buildingblock2_smiles'].values)\n",
    "buildingblock3_smiles_vec = smile_vector(sEHs['buildingblock3_smiles'].values)\n",
    "sEHpredictions = sEHModel.predict([buildingblock1_smiles_vec, buildingblock2_smiles_vec, buildingblock3_smiles_vec, sEHs[data_cols]])\n",
    "sEHs['binds'] = sEHpredictions.flatten()"
   ]
  },
  {
   "cell_type": "code",
   "execution_count": 6,
   "id": "d791cd56",
   "metadata": {
    "execution": {
     "iopub.execute_input": "2024-07-04T19:07:09.045445Z",
     "iopub.status.busy": "2024-07-04T19:07:09.045118Z",
     "iopub.status.idle": "2024-07-04T19:08:23.405181Z",
     "shell.execute_reply": "2024-07-04T19:08:23.404110Z"
    },
    "papermill": {
     "duration": 74.418733,
     "end_time": "2024-07-04T19:08:23.407476",
     "exception": false,
     "start_time": "2024-07-04T19:07:08.988743",
     "status": "completed"
    },
    "tags": []
   },
   "outputs": [
    {
     "name": "stdout",
     "output_type": "stream",
     "text": [
      "\u001b[1m17435/17435\u001b[0m \u001b[32m━━━━━━━━━━━━━━━━━━━━\u001b[0m\u001b[37m\u001b[0m \u001b[1m36s\u001b[0m 2ms/step\n"
     ]
    },
    {
     "name": "stderr",
     "output_type": "stream",
     "text": [
      "/tmp/ipykernel_24/4219568825.py:7: SettingWithCopyWarning: \n",
      "A value is trying to be set on a copy of a slice from a DataFrame.\n",
      "Try using .loc[row_indexer,col_indexer] = value instead\n",
      "\n",
      "See the caveats in the documentation: https://pandas.pydata.org/pandas-docs/stable/user_guide/indexing.html#returning-a-view-versus-a-copy\n",
      "  HSAs['binds'] = HSApredictions.flatten()\n"
     ]
    }
   ],
   "source": [
    "HSAModel = tf.keras.models.load_model('/kaggle/input/belka_bio_hsa/tensorflow2/train-w-smile-vectors/1/HSA.keras')\n",
    "HSAs = ds[ds['protein_name'] == 'HSA']\n",
    "buildingblock1_smiles_vec = smile_vector(HSAs['buildingblock1_smiles'].values)\n",
    "buildingblock2_smiles_vec = smile_vector(HSAs['buildingblock2_smiles'].values)\n",
    "buildingblock3_smiles_vec = smile_vector(HSAs['buildingblock3_smiles'].values)\n",
    "HSApredictions = HSAModel.predict([buildingblock1_smiles_vec, buildingblock2_smiles_vec, buildingblock3_smiles_vec, HSAs[data_cols]])\n",
    "HSAs['binds'] = HSApredictions.flatten()"
   ]
  },
  {
   "cell_type": "code",
   "execution_count": 7,
   "id": "0a948867",
   "metadata": {
    "execution": {
     "iopub.execute_input": "2024-07-04T19:08:23.624711Z",
     "iopub.status.busy": "2024-07-04T19:08:23.624012Z",
     "iopub.status.idle": "2024-07-04T19:09:39.940783Z",
     "shell.execute_reply": "2024-07-04T19:09:39.939785Z"
    },
    "papermill": {
     "duration": 76.427454,
     "end_time": "2024-07-04T19:09:39.943201",
     "exception": false,
     "start_time": "2024-07-04T19:08:23.515747",
     "status": "completed"
    },
    "tags": []
   },
   "outputs": [
    {
     "name": "stdout",
     "output_type": "stream",
     "text": [
      "\u001b[1m17465/17465\u001b[0m \u001b[32m━━━━━━━━━━━━━━━━━━━━\u001b[0m\u001b[37m\u001b[0m \u001b[1m37s\u001b[0m 2ms/step\n"
     ]
    },
    {
     "name": "stderr",
     "output_type": "stream",
     "text": [
      "/tmp/ipykernel_24/1342692181.py:7: SettingWithCopyWarning: \n",
      "A value is trying to be set on a copy of a slice from a DataFrame.\n",
      "Try using .loc[row_indexer,col_indexer] = value instead\n",
      "\n",
      "See the caveats in the documentation: https://pandas.pydata.org/pandas-docs/stable/user_guide/indexing.html#returning-a-view-versus-a-copy\n",
      "  BRD4s['binds'] = BRD4predictions.flatten()\n"
     ]
    }
   ],
   "source": [
    "BRD4Model = tf.keras.models.load_model('/kaggle/input/belka_bio_brd4/tensorflow2/train-w-smile-vectors/1/BRD4.keras')\n",
    "BRD4s = ds[ds['protein_name'] == 'BRD4']\n",
    "buildingblock1_smiles_vec = smile_vector(BRD4s['buildingblock1_smiles'].values)\n",
    "buildingblock2_smiles_vec = smile_vector(BRD4s['buildingblock2_smiles'].values)\n",
    "buildingblock3_smiles_vec = smile_vector(BRD4s['buildingblock3_smiles'].values)\n",
    "BRD4predictions = BRD4Model.predict([buildingblock1_smiles_vec, buildingblock2_smiles_vec, buildingblock3_smiles_vec, BRD4s[data_cols]])\n",
    "BRD4s['binds'] = BRD4predictions.flatten()"
   ]
  },
  {
   "cell_type": "code",
   "execution_count": 8,
   "id": "6a8e5ed2",
   "metadata": {
    "execution": {
     "iopub.execute_input": "2024-07-04T19:09:40.270403Z",
     "iopub.status.busy": "2024-07-04T19:09:40.269620Z",
     "iopub.status.idle": "2024-07-04T19:09:44.638527Z",
     "shell.execute_reply": "2024-07-04T19:09:44.637670Z"
    },
    "papermill": {
     "duration": 4.53511,
     "end_time": "2024-07-04T19:09:44.640794",
     "exception": false,
     "start_time": "2024-07-04T19:09:40.105684",
     "status": "completed"
    },
    "tags": []
   },
   "outputs": [],
   "source": [
    "pd.concat([sEHs, BRD4s, HSAs])[['id', 'binds']].to_csv('submition.csv', index=False)"
   ]
  }
 ],
 "metadata": {
  "kaggle": {
   "accelerator": "nvidiaTeslaT4",
   "dataSources": [
    {
     "databundleVersionId": 8006601,
     "sourceId": 67356,
     "sourceType": "competition"
    },
    {
     "datasetId": 4881163,
     "sourceId": 8859975,
     "sourceType": "datasetVersion"
    },
    {
     "modelInstanceId": 60289,
     "sourceId": 72174,
     "sourceType": "modelInstanceVersion"
    },
    {
     "modelInstanceId": 60288,
     "sourceId": 72173,
     "sourceType": "modelInstanceVersion"
    },
    {
     "modelInstanceId": 60439,
     "sourceId": 72356,
     "sourceType": "modelInstanceVersion"
    }
   ],
   "dockerImageVersionId": 30732,
   "isGpuEnabled": true,
   "isInternetEnabled": true,
   "language": "python",
   "sourceType": "notebook"
  },
  "kernelspec": {
   "display_name": "Python 3",
   "language": "python",
   "name": "python3"
  },
  "language_info": {
   "codemirror_mode": {
    "name": "ipython",
    "version": 3
   },
   "file_extension": ".py",
   "mimetype": "text/x-python",
   "name": "python",
   "nbconvert_exporter": "python",
   "pygments_lexer": "ipython3",
   "version": "3.10.13"
  },
  "papermill": {
   "default_parameters": {},
   "duration": 291.313338,
   "end_time": "2024-07-04T19:09:47.669980",
   "environment_variables": {},
   "exception": null,
   "input_path": "__notebook__.ipynb",
   "output_path": "__notebook__.ipynb",
   "parameters": {},
   "start_time": "2024-07-04T19:04:56.356642",
   "version": "2.5.0"
  }
 },
 "nbformat": 4,
 "nbformat_minor": 5
}
